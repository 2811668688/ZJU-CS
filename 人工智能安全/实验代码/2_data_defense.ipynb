{
 "cells": [
  {
   "cell_type": "markdown",
   "id": "d020b95f-a8a0-45dc-947f-60528de2f0a3",
   "metadata": {},
   "source": [
    "# Load Cora Dataset "
   ]
  },
  {
   "cell_type": "code",
   "execution_count": 1,
   "id": "a8102014-13f7-4e59-a3a6-79224f5089f0",
   "metadata": {},
   "outputs": [
    {
     "name": "stderr",
     "output_type": "stream",
     "text": [
      "Using backend: pytorch\n"
     ]
    }
   ],
   "source": [
    "import torch\n",
    "import torch.nn as nn\n",
    "import torch.nn.functional as F\n",
    "device = torch.device('cpu')\n",
    "import numpy as np\n",
    "import random\n",
    "\n",
    "data = torch.load('data.pth')\n",
    "g = data['g'].to(device)\n",
    "feat = data['feat'].to(device)\n",
    "label = data['label'].to(device)\n",
    "train_nodes = data['train_nodes']\n",
    "val_nodes = data['val_nodes']\n",
    "test_nodes = data['test_nodes']\n",
    "\n",
    "def setup_seed(seed):\n",
    "    torch.manual_seed(seed)\n",
    "    torch.cuda.manual_seed_all(seed)\n",
    "    np.random.seed(seed)\n",
    "    random.seed(seed)\n",
    "    torch.backends.cudnn.deterministic = True\n",
    "setup_seed(20)"
   ]
  },
  {
   "cell_type": "markdown",
   "id": "c75cd0ce",
   "metadata": {},
   "source": [
    "# Load victim GCN model"
   ]
  },
  {
   "cell_type": "code",
   "execution_count": 2,
   "id": "1e4caa95",
   "metadata": {},
   "outputs": [
    {
     "data": {
      "text/plain": [
       "GCN(\n",
       "  (conv1): GraphConv(in=1433, out=16, normalization=both, activation=None)\n",
       "  (conv2): GraphConv(in=16, out=7, normalization=both, activation=None)\n",
       "  (dropout): Dropout(p=0.5, inplace=False)\n",
       ")"
      ]
     },
     "execution_count": 2,
     "metadata": {},
     "output_type": "execute_result"
    }
   ],
   "source": [
    "from dgl.nn import GraphConv\n",
    "\n",
    "class GCN(nn.Module):\n",
    "    \"\"\"Graph Convolution Network (GCN)\n",
    "\n",
    "    Example\n",
    "    -------\n",
    "    # GCN with one hidden layer\n",
    "    >>> model = GCN(100, 10, hid=32)\n",
    "    \"\"\"\n",
    "    def __init__(self,\n",
    "                 in_feats: int,\n",
    "                 out_feats: int,\n",
    "                 hid: list = 16,\n",
    "                 dropout: float = 0.5):\n",
    "        super().__init__()\n",
    "        self.conv1 = GraphConv(in_feats, hid)\n",
    "        self.conv2 = GraphConv(hid, out_feats)\n",
    "        self.dropout = nn.Dropout(dropout)\n",
    "\n",
    "    def forward(self, g, feat):\n",
    "\n",
    "        if torch.is_tensor(g):\n",
    "            feat = self.dropout(feat)\n",
    "            feat = g @ (feat @ self.conv1.weight) + self.conv1.bias\n",
    "            feat = F.relu(feat)\n",
    "            feat = self.dropout(feat)\n",
    "            feat = g @ (feat @ self.conv2.weight) + self.conv2.bias\n",
    "            return feat\n",
    "        \n",
    "        g = g.add_self_loop()\n",
    "        feat = self.dropout(feat)\n",
    "        feat = self.conv1(g, feat)\n",
    "        feat = F.relu(feat)\n",
    "        feat = self.dropout(feat)\n",
    "        feat = self.conv2(g, feat)\n",
    "        return feat\n",
    "    \n",
    "device = torch.device('cpu')\n",
    "\n",
    "num_feats = feat.size(1)\n",
    "num_classes = int(label.max() + 1)\n",
    "model = GCN(num_feats, num_classes).to(device)\n",
    "\n",
    "model.load_state_dict(torch.load('model.pth', map_location=device))\n",
    "model.eval()"
   ]
  },
  {
   "cell_type": "markdown",
   "id": "bf8f36f7-e387-4ff0-a884-f3303b6b36e4",
   "metadata": {},
   "source": [
    "# Jaccard Similarity based defense "
   ]
  },
  {
   "cell_type": "markdown",
   "id": "95ce8043",
   "metadata": {},
   "source": [
    "*Wu et al.* [📝Adversarial Examples on Graph Data: Deep Insights into Attack and Defense](https://arxiv.org/abs/1903.01610), *IJCAI'19*"
   ]
  },
  {
   "cell_type": "code",
   "execution_count": 3,
   "id": "5db4b25b-73a3-4d49-8573-a78764de8974",
   "metadata": {},
   "outputs": [],
   "source": [
    "import dgl\n",
    "import scipy.sparse as sp\n",
    "import torch\n",
    "\n",
    "class JaccardPurification(torch.nn.Module):\n",
    "\n",
    "    def __init__(self, threshold: float = 0.):\n",
    "        super().__init__()\n",
    "        self.threshold = threshold\n",
    "\n",
    "    def forward(self, g, feat):\n",
    "\n",
    "        g = g.local_var()\n",
    "        row, col = g.edges()\n",
    "        A = feat[row]\n",
    "        B = feat[col]\n",
    "        score = jaccard_similarity(A, B)\n",
    "        deg = g.in_degrees()\n",
    "\n",
    "        condition = score <= self.threshold\n",
    "\n",
    "        e_id = torch.where(condition)[0]\n",
    "        g.remove_edges(e_id)\n",
    "\n",
    "        self.edges = torch.stack([row[e_id], col[e_id]], dim=0)\n",
    "        return g\n",
    "\n",
    "    def extra_repr(self) -> str:\n",
    "        return f\"threshold={self.threshold}, allow_singleton={self.allow_singleton}\"\n",
    "\n",
    "\n",
    "def jaccard_similarity(A: torch.Tensor, B: torch.Tensor) -> torch.Tensor:\n",
    "    intersection = torch.count_nonzero(A * B, axis=1)\n",
    "    J = intersection * 1.0 / (torch.count_nonzero(A, dim=1) + torch.count_nonzero(B, dim=1) + intersection + 1e-7)\n",
    "    return J\n",
    "\n"
   ]
  },
  {
   "cell_type": "code",
   "execution_count": 4,
   "id": "51f2bdc9-4837-4338-9fed-6dd42e948f82",
   "metadata": {},
   "outputs": [],
   "source": [
    "defense_g = JaccardPurification()(g, feat)"
   ]
  },
  {
   "cell_type": "code",
   "execution_count": 5,
   "id": "9ed4b067-e15a-4c31-a4a7-656aac51e927",
   "metadata": {},
   "outputs": [
    {
     "data": {
      "text/plain": [
       "Graph(num_nodes=2485, num_edges=10138,\n",
       "      ndata_schemes={}\n",
       "      edata_schemes={})"
      ]
     },
     "execution_count": 5,
     "metadata": {},
     "output_type": "execute_result"
    }
   ],
   "source": [
    "g"
   ]
  },
  {
   "cell_type": "code",
   "execution_count": 6,
   "id": "dc175651-c88e-4c3a-b181-aecaa7dbc0be",
   "metadata": {},
   "outputs": [
    {
     "data": {
      "text/plain": [
       "Graph(num_nodes=2485, num_edges=9042,\n",
       "      ndata_schemes={}\n",
       "      edata_schemes={})"
      ]
     },
     "execution_count": 6,
     "metadata": {},
     "output_type": "execute_result"
    }
   ],
   "source": [
    "defense_g"
   ]
  },
  {
   "cell_type": "markdown",
   "id": "8a6409e3-5c9e-4175-8b5a-7e6981036248",
   "metadata": {},
   "source": [
    "# Evaluation"
   ]
  },
  {
   "cell_type": "markdown",
   "id": "5fd4efd3-fa57-4ce0-b469-a3992b17e6b6",
   "metadata": {},
   "source": [
    "In the following, you can conduct any attack to obtain a perturbed graph `attack_g`. \n",
    "To resist adversarial attacks, the graph can be puritied by using\n",
    "```python\n",
    "defense_g = JaccardPurification()(attack_g, feat)\n",
    "```\n",
    "\n",
    "and the defensed graph can be used for any downstream tasks"
   ]
  },
  {
   "cell_type": "code",
   "execution_count": 7,
   "id": "1ba87deb-7266-4b50-9cd4-a0a67812dd22",
   "metadata": {},
   "outputs": [],
   "source": [
    "d = torch.load('attack_graph.pth')\n",
    "attack_g = d['attack_g']\n",
    "attack_feat = d['attack_feat']\n",
    "\n",
    "## defense\n",
    "defense_g = JaccardPurification()(attack_g, feat)"
   ]
  },
  {
   "cell_type": "code",
   "execution_count": 8,
   "id": "c7ffd165",
   "metadata": {},
   "outputs": [
    {
     "name": "stdout",
     "output_type": "stream",
     "text": [
      "target label:  tensor(2)\n"
     ]
    }
   ],
   "source": [
    "target = 1\n",
    "target_label = label[target]\n",
    "print(\"target label: \", target_label)"
   ]
  },
  {
   "cell_type": "code",
   "execution_count": 9,
   "id": "2b493886-5ffa-4a99-89f0-e01ff265b9e8",
   "metadata": {},
   "outputs": [
    {
     "data": {
      "text/plain": [
       "tensor(2)"
      ]
     },
     "execution_count": 9,
     "metadata": {},
     "output_type": "execute_result"
    }
   ],
   "source": [
    "# with raw graph\n",
    "model(g, feat)[target].argmax()"
   ]
  },
  {
   "cell_type": "code",
   "execution_count": 10,
   "id": "f78dd092-0a5b-4e30-a3dd-08ecd9084586",
   "metadata": {},
   "outputs": [
    {
     "data": {
      "text/plain": [
       "tensor(1)"
      ]
     },
     "execution_count": 10,
     "metadata": {},
     "output_type": "execute_result"
    }
   ],
   "source": [
    "# with attacked graph: target gets misclassified\n",
    "model(attack_g, attack_feat)[target].argmax()"
   ]
  },
  {
   "cell_type": "code",
   "execution_count": 11,
   "id": "6188ba04-aa35-4991-a8c2-26f2747f6747",
   "metadata": {},
   "outputs": [
    {
     "data": {
      "text/plain": [
       "tensor(2)"
      ]
     },
     "execution_count": 11,
     "metadata": {},
     "output_type": "execute_result"
    }
   ],
   "source": [
    "# with data defense\n",
    "model(defense_g, attack_feat)[target].argmax()"
   ]
  },
  {
   "cell_type": "code",
   "execution_count": null,
   "id": "5b60cf86",
   "metadata": {},
   "outputs": [],
   "source": []
  }
 ],
 "metadata": {
  "kernelspec": {
   "display_name": "Python 3",
   "language": "python",
   "name": "python3"
  },
  "language_info": {
   "codemirror_mode": {
    "name": "ipython",
    "version": 3
   },
   "file_extension": ".py",
   "mimetype": "text/x-python",
   "name": "python",
   "nbconvert_exporter": "python",
   "pygments_lexer": "ipython3",
   "version": "3.6.5"
  }
 },
 "nbformat": 4,
 "nbformat_minor": 5
}
