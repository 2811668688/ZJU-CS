{
 "cells": [
  {
   "cell_type": "code",
   "execution_count": 1,
   "metadata": {
    "ExecuteTime": {
     "end_time": "2021-12-16T02:31:58.012427Z",
     "start_time": "2021-12-16T02:31:57.215724Z"
    }
   },
   "outputs": [],
   "source": [
    "import lightgbm as lgb\n",
    "import pandas as pd\n",
    "import numpy as np\n",
    "import torch\n",
    "import random\n",
    "\n",
    "from sklearn.datasets import load_breast_cancer, load_svmlight_file\n",
    "from sklearn.model_selection import train_test_split\n",
    "from sklearn import metrics\n",
    "\n",
    "def setup_seed(seed):\n",
    "    torch.manual_seed(seed)\n",
    "    torch.cuda.manual_seed_all(seed)\n",
    "    np.random.seed(seed)\n",
    "    random.seed(seed)\n",
    "    torch.backends.cudnn.deterministic = True\n",
    "setup_seed(20)"
   ]
  },
  {
   "cell_type": "code",
   "execution_count": 2,
   "metadata": {
    "ExecuteTime": {
     "end_time": "2021-12-16T02:32:05.123014Z",
     "start_time": "2021-12-16T02:32:05.113901Z"
    }
   },
   "outputs": [],
   "source": [
    "def get_auc(y, pred):\n",
    "    fpr, tpr, thresholds = metrics.roc_curve(y, pred)\n",
    "    return metrics.auc(fpr, tpr)\n",
    "\n",
    "def eval_robust(bst, data, y, mask_attack, n=10):\n",
    "    auc_list = [get_auc(y, bst.predict(mask_attack(data))) for i in range(n)]\n",
    "    return {\"auc mean\": np.mean(auc_list),\n",
    "            \"auc min\": np.min(auc_list),\n",
    "            \"auc max\": np.max(auc_list),\n",
    "            \"auc std\": np.std(auc_list)}\n",
    "\n",
    "class MaskAttack(object):\n",
    "    def __init__(self, mask_rate):\n",
    "        self.mask_rate = mask_rate\n",
    "    \n",
    "    def __call__(self, data):\n",
    "        mask_arr = np.random.rand(*data.shape) < self.mask_rate\n",
    "        mask_data = data * (1 - mask_arr)\n",
    "        return mask_data"
   ]
  },
  {
   "cell_type": "code",
   "execution_count": 3,
   "metadata": {
    "ExecuteTime": {
     "end_time": "2021-12-16T02:32:05.850853Z",
     "start_time": "2021-12-16T02:32:05.619752Z"
    }
   },
   "outputs": [],
   "source": [
    "X, y = load_svmlight_file(\"./lgb.data\")\n",
    "X = np.array(X.todense())\n",
    "y = np.array([1 if v > 0 else 0 for v in y])\n",
    "X_train, X_test, y_train, y_test = train_test_split(X, y, test_size=0.4, random_state=1)\n",
    "X_valid,  X_test, y_valid, y_test = train_test_split(X_test, y_test, test_size=0.5, random_state=1)\n"
   ]
  },
  {
   "cell_type": "code",
   "execution_count": 4,
   "metadata": {
    "ExecuteTime": {
     "end_time": "2021-12-16T02:32:05.858920Z",
     "start_time": "2021-12-16T02:32:05.851999Z"
    }
   },
   "outputs": [
    {
     "data": {
      "text/plain": [
       "((4540, 123), (13617, 123))"
      ]
     },
     "execution_count": 4,
     "metadata": {},
     "output_type": "execute_result"
    }
   ],
   "source": [
    "X_test.shape, X_train.shape"
   ]
  },
  {
   "cell_type": "code",
   "execution_count": 5,
   "metadata": {
    "ExecuteTime": {
     "end_time": "2021-12-16T02:32:05.862831Z",
     "start_time": "2021-12-16T02:32:05.859971Z"
    }
   },
   "outputs": [],
   "source": [
    "params = {\n",
    "    \"boosting_type\": \"gbdt\",\n",
    "    \"objective\": \"binary\",\n",
    "    \"metric\": \"auc\",\n",
    "    \"learning_rate\": 0.03,\n",
    "    \"num_leaves\": 32,\n",
    "    \"max_depth\": 5,\n",
    "    \"verbose\": -1,\n",
    "    \"num_boost_round\": 200,\n",
    "    \"subsample\": 0.8\n",
    "}"
   ]
  },
  {
   "cell_type": "code",
   "execution_count": 6,
   "metadata": {
    "ExecuteTime": {
     "end_time": "2021-12-16T02:32:05.874966Z",
     "start_time": "2021-12-16T02:32:05.872698Z"
    }
   },
   "outputs": [],
   "source": [
    "# 10%的概率mask掉特征值\n",
    "mask_attack = MaskAttack(0.1)"
   ]
  },
  {
   "cell_type": "markdown",
   "metadata": {},
   "source": [
    "### 正常训练"
   ]
  },
  {
   "cell_type": "code",
   "execution_count": 7,
   "metadata": {
    "ExecuteTime": {
     "end_time": "2021-12-16T02:32:08.065657Z",
     "start_time": "2021-12-16T02:32:06.838561Z"
    }
   },
   "outputs": [
    {
     "name": "stderr",
     "output_type": "stream",
     "text": [
      "/home/changhua.mch/anaconda3/envs/zju/lib/python3.6/site-packages/lightgbm/engine.py:177: UserWarning: Found `num_boost_round` in params. Will use it instead of argument\n",
      "  _log_warning(f\"Found `{alias}` in params. Will use it instead of argument\")\n",
      "/home/changhua.mch/anaconda3/envs/zju/lib/python3.6/site-packages/lightgbm/engine.py:181: UserWarning: 'early_stopping_rounds' argument is deprecated and will be removed in a future release of LightGBM. Pass 'early_stopping()' callback via 'callbacks' argument instead.\n",
      "  _log_warning(\"'early_stopping_rounds' argument is deprecated and will be removed in a future release of LightGBM. \"\n",
      "/home/changhua.mch/anaconda3/envs/zju/lib/python3.6/site-packages/lightgbm/engine.py:239: UserWarning: 'verbose_eval' argument is deprecated and will be removed in a future release of LightGBM. Pass 'log_evaluation()' callback via 'callbacks' argument instead.\n",
      "  _log_warning(\"'verbose_eval' argument is deprecated and will be removed in a future release of LightGBM. \"\n"
     ]
    },
    {
     "name": "stdout",
     "output_type": "stream",
     "text": [
      "Training until validation scores don't improve for 10 rounds\n",
      "Did not meet early stopping. Best iteration is:\n",
      "[197]\tvalid_0's auc: 0.905348\n"
     ]
    }
   ],
   "source": [
    "train_ds = lgb.Dataset(data=X_train, label=y_train)\n",
    "valid_ds = lgb.Dataset(data=X_valid, label=y_valid)\n",
    "bst = lgb.train(params=params, train_set=train_ds\n",
    "                , early_stopping_rounds=10, valid_sets=valid_ds, verbose_eval=-1)\n"
   ]
  },
  {
   "cell_type": "markdown",
   "metadata": {},
   "source": [
    "### 鲁棒训练"
   ]
  },
  {
   "cell_type": "code",
   "execution_count": 8,
   "metadata": {
    "ExecuteTime": {
     "end_time": "2021-12-16T02:32:08.673526Z",
     "start_time": "2021-12-16T02:32:08.292616Z"
    }
   },
   "outputs": [
    {
     "name": "stdout",
     "output_type": "stream",
     "text": [
      "Training until validation scores don't improve for 10 rounds\n",
      "Did not meet early stopping. Best iteration is:\n",
      "[199]\tvalid_0's auc: 0.896785\n"
     ]
    }
   ],
   "source": [
    "train_ds = lgb.Dataset(data=mask_attack(X_train), label=y_train)\n",
    "valid_ds = lgb.Dataset(data=mask_attack(X_valid), label=y_valid)\n",
    "mask_bst = lgb.train(params=params, train_set=train_ds\n",
    "                     , early_stopping_rounds=10, valid_sets=valid_ds, verbose_eval=-1)\n"
   ]
  },
  {
   "cell_type": "markdown",
   "metadata": {},
   "source": [
    "### 结果比较"
   ]
  },
  {
   "cell_type": "code",
   "execution_count": 9,
   "metadata": {
    "ExecuteTime": {
     "end_time": "2021-12-16T02:32:09.283971Z",
     "start_time": "2021-12-16T02:32:09.262698Z"
    }
   },
   "outputs": [
    {
     "data": {
      "text/plain": [
       "(0.8956432529661212, 0.8932529008930782)"
      ]
     },
     "execution_count": 9,
     "metadata": {},
     "output_type": "execute_result"
    }
   ],
   "source": [
    "# 在原始测试数据集合上：正常训练和鲁棒训练auc差距不大\n",
    "get_auc(y_test, bst.predict(X_test)), get_auc(y_test, mask_bst.predict(X_test))"
   ]
  },
  {
   "cell_type": "code",
   "execution_count": 10,
   "metadata": {
    "ExecuteTime": {
     "end_time": "2021-12-16T02:32:12.897987Z",
     "start_time": "2021-12-16T02:32:11.812175Z"
    }
   },
   "outputs": [
    {
     "data": {
      "text/plain": [
       "{'auc mean': 0.8703457302543195,\n",
       " 'auc min': 0.8634086579718365,\n",
       " 'auc max': 0.8783485214988186,\n",
       " 'auc std': 0.0029531635172742646}"
      ]
     },
     "execution_count": 10,
     "metadata": {},
     "output_type": "execute_result"
    }
   ],
   "source": [
    "# 在mask的测试集合上，正常训练Auc下降明显, 且auc的标准差比较大\n",
    "eval_robust(bst, X_test, y_test, mask_attack=mask_attack, n=100)"
   ]
  },
  {
   "cell_type": "code",
   "execution_count": 11,
   "metadata": {
    "ExecuteTime": {
     "end_time": "2021-12-16T02:32:14.179883Z",
     "start_time": "2021-12-16T02:32:13.115251Z"
    }
   },
   "outputs": [
    {
     "data": {
      "text/plain": [
       "{'auc mean': 0.88663892207554,\n",
       " 'auc min': 0.882800606048114,\n",
       " 'auc max': 0.8904063428930892,\n",
       " 'auc std': 0.00143452980789563}"
      ]
     },
     "execution_count": 11,
     "metadata": {},
     "output_type": "execute_result"
    }
   ],
   "source": [
    "# 在mask的测试集合上，鲁棒训练，auc下降不明显\n",
    "eval_robust(mask_bst, X_test, y_test, mask_attack=mask_attack, n=100)"
   ]
  },
  {
   "cell_type": "code",
   "execution_count": null,
   "metadata": {},
   "outputs": [],
   "source": []
  }
 ],
 "metadata": {
  "kernelspec": {
   "display_name": "Python 3",
   "language": "python",
   "name": "python3"
  },
  "language_info": {
   "codemirror_mode": {
    "name": "ipython",
    "version": 3
   },
   "file_extension": ".py",
   "mimetype": "text/x-python",
   "name": "python",
   "nbconvert_exporter": "python",
   "pygments_lexer": "ipython3",
   "version": "3.6.5"
  }
 },
 "nbformat": 4,
 "nbformat_minor": 4
}
