{
 "cells": [
  {
   "cell_type": "markdown",
   "id": "12402be5",
   "metadata": {},
   "source": [
    "# Load Cora Dataset "
   ]
  },
  {
   "cell_type": "code",
   "execution_count": 1,
   "id": "2998ce7f",
   "metadata": {},
   "outputs": [
    {
     "name": "stderr",
     "output_type": "stream",
     "text": [
      "Using backend: pytorch\n"
     ]
    }
   ],
   "source": [
    "import torch\n",
    "import torch.nn as nn\n",
    "import torch.nn.functional as F\n",
    "device = torch.device('cpu')\n",
    "import numpy as np\n",
    "import random\n",
    "\n",
    "data = torch.load('data.pth')\n",
    "g = data['g'].to(device)\n",
    "feat = data['feat'].to(device)\n",
    "label = data['label'].to(device)\n",
    "train_nodes = data['train_nodes']\n",
    "val_nodes = data['val_nodes']\n",
    "test_nodes = data['test_nodes']\n",
    "\n",
    "#保证固定性\n",
    "def setup_seed(seed):\n",
    "    torch.manual_seed(seed)\n",
    "    torch.cuda.manual_seed_all(seed)\n",
    "    np.random.seed(seed)\n",
    "    random.seed(seed)\n",
    "    torch.backends.cudnn.deterministic = True\n",
    "setup_seed(20)"
   ]
  },
  {
   "cell_type": "markdown",
   "id": "91df9d22",
   "metadata": {},
   "source": [
    "# Load victim GCN model"
   ]
  },
  {
   "cell_type": "code",
   "execution_count": 2,
   "id": "3eb9624a",
   "metadata": {},
   "outputs": [
    {
     "data": {
      "text/plain": [
       "GCN(\n",
       "  (conv1): GraphConv(in=1433, out=16, normalization=both, activation=None)\n",
       "  (conv2): GraphConv(in=16, out=7, normalization=both, activation=None)\n",
       "  (dropout): Dropout(p=0.5, inplace=False)\n",
       ")"
      ]
     },
     "execution_count": 2,
     "metadata": {},
     "output_type": "execute_result"
    }
   ],
   "source": [
    "from dgl.nn import GraphConv\n",
    "\n",
    "class GCN(nn.Module):\n",
    "    \"\"\"Graph Convolution Network (GCN)\n",
    "    加载模型:图卷积神经网络\n",
    "\n",
    "    Example\n",
    "    -------\n",
    "    # GCN with one hidden layer\n",
    "    >>> model = GCN(100, 10, hid=32)\n",
    "    \"\"\"\n",
    "    def __init__(self,\n",
    "                 in_feats: int,\n",
    "                 out_feats: int,\n",
    "                 hid: list = 16,\n",
    "                 dropout: float = 0.5):\n",
    "        super().__init__()\n",
    "        #两层，分别用于接收输入和进行输出\n",
    "        self.conv1 = GraphConv(in_feats, hid)\n",
    "        self.conv2 = GraphConv(hid, out_feats)\n",
    "        self.dropout = nn.Dropout(dropout)\n",
    "\n",
    "    def forward(self, g, feat):\n",
    "\n",
    "        if torch.is_tensor(g):\n",
    "            feat = self.dropout(feat)\n",
    "            feat = g @ (feat @ self.conv1.weight) + self.conv1.bias\n",
    "            feat = F.relu(feat)\n",
    "            feat = self.dropout(feat)\n",
    "            feat = g @ (feat @ self.conv2.weight) + self.conv2.bias\n",
    "            return feat\n",
    "        \n",
    "        #添加自环\n",
    "        g = g.add_self_loop()\n",
    "        feat = self.dropout(feat)\n",
    "        feat = self.conv1(g, feat)\n",
    "        feat = F.relu(feat)\n",
    "        feat = self.dropout(feat)\n",
    "        feat = self.conv2(g, feat)\n",
    "        return feat\n",
    "\n",
    "device = torch.device('cpu')\n",
    "\n",
    "num_feats = feat.size(1)\n",
    "num_classes = int(label.max() + 1)\n",
    "model = GCN(num_feats, num_classes).to(device)\n",
    "\n",
    "model.load_state_dict(torch.load('model.pth', map_location=device))\n",
    "model.eval()\n"
   ]
  },
  {
   "cell_type": "code",
   "execution_count": null,
   "id": "5aba4833",
   "metadata": {},
   "outputs": [],
   "source": []
  },
  {
   "cell_type": "markdown",
   "id": "6ac4437d",
   "metadata": {},
   "source": [
    "# Attack"
   ]
  },
  {
   "cell_type": "markdown",
   "id": "f6225312",
   "metadata": {},
   "source": [
    "*Goodfellow et al.* [📝Explaining and Harnessing Adversarial Examples](https://arxiv.org/abs/1412.6572), *ICLR'15*"
   ]
  },
  {
   "cell_type": "markdown",
   "id": "c7bbcaa8",
   "metadata": {},
   "source": [
    "*Chen et al.* [📝Fast Gradient Attack on Network Embedding](https://arxiv.org/abs/1809.02797), *arXiv'18*"
   ]
  },
  {
   "cell_type": "markdown",
   "id": "fbe69696",
   "metadata": {},
   "source": [
    "*Chen et al.* [📝Link Prediction Adversarial Attack Via Iterative Gradient Attack](https://ieeexplore.ieee.org/abstract/document/9141291), *IEEE Trans'20* "
   ]
  },
  {
   "cell_type": "markdown",
   "id": "d58f5a27",
   "metadata": {},
   "source": [
    "*Dai et al.* [📝Adversarial Attack on Graph Structured Data](https://arxiv.org/abs/1806.02371), *ICML'18*"
   ]
  },
  {
   "cell_type": "code",
   "execution_count": 3,
   "id": "736ce65f",
   "metadata": {},
   "outputs": [],
   "source": [
    "from typing import Optional\n",
    "\n",
    "import dgl\n",
    "from torch.autograd import grad\n",
    "from tqdm import tqdm\n",
    "\n",
    "#计算邻接矩阵的归一化\n",
    "def normalize(adj_matrix: torch.Tensor, norm: str = 'both'):\n",
    "\n",
    "    if norm == 'none':\n",
    "        return adj_matrix\n",
    "\n",
    "    src_degrees = adj_matrix.sum(dim=0).clamp(min=1)\n",
    "    dst_degrees = adj_matrix.sum(dim=1).clamp(min=1)\n",
    "\n",
    "    if norm == 'left':\n",
    "        # A * D^-1\n",
    "        norm_src = (1.0 / src_degrees).view(1, -1)\n",
    "        adj_matrix = adj_matrix * norm_src\n",
    "    elif norm == 'right':\n",
    "        # D^-1 * A\n",
    "        norm_dst = (1.0 / dst_degrees).view(-1, 1)\n",
    "        adj_matrix = adj_matrix * norm_dst\n",
    "    else:  # both or square\n",
    "        if norm == 'both':\n",
    "            # D^-0.5 * A * D^-0.5\n",
    "            pow = -0.5\n",
    "        else:\n",
    "            # D^-1 * A * D^-1\n",
    "            pow = -1\n",
    "        norm_src = torch.pow(src_degrees, pow).view(1, -1)\n",
    "        norm_dst = torch.pow(dst_degrees, pow).view(-1, 1)\n",
    "        adj_matrix = norm_src * adj_matrix * norm_dst\n",
    "    return adj_matrix\n",
    "\n",
    "class FGAttack(nn.Module):\n",
    "    \"\"\"FGSM\"\"\"\n",
    "    def __init__(self, graph: dgl.DGLGraph, feat: torch.Tensor, \n",
    "                 surrogate: nn.Module, device: str = \"cpu\"):\n",
    "        super().__init__()\n",
    "        self.graph = graph\n",
    "        self.feat = feat\n",
    "        self.device = torch.device(device)\n",
    "        self.surrogate = surrogate.to(self.device)\n",
    "        self.loss_fn = nn.CrossEntropyLoss()\n",
    "\n",
    "    #调用reset方法来回归攻击前的状态\n",
    "    def reset(self):\n",
    "        self.modified_adj = self.graph.add_self_loop().adjacency_matrix().to_dense().to(self.device)\n",
    "        self.modified_feat = self.feat.clone()\n",
    "        return self\n",
    "\n",
    "    def attack(self,\n",
    "               target,\n",
    "               target_label,\n",
    "               num_budgets,\n",
    "               direct_attack=True,\n",
    "               structure_attack=True,\n",
    "               feature_attack=False,\n",
    "               disable=False):\n",
    "\n",
    "        target_label = torch.as_tensor(target_label, device=self.device, dtype=torch.long).view(-1)\n",
    "\n",
    "        self.structure_attack = structure_attack\n",
    "        self.feature_attack = feature_attack\n",
    "        self.direct_attack = direct_attack\n",
    "        \n",
    "        modified_adj = self.modified_adj\n",
    "        modified_feat = self.modified_feat\n",
    "        modified_adj.requires_grad_(bool(structure_attack))\n",
    "        modified_feat.requires_grad_(bool(feature_attack))\n",
    "\n",
    "        target = torch.as_tensor(target, device=self.device, dtype=torch.long)\n",
    "        target_label = torch.as_tensor(target_label, device=self.device, dtype=torch.long).view(-1)\n",
    "        num_nodes, num_feats = modified_feat.size()\n",
    "\n",
    "        for it in tqdm(range(num_budgets),\n",
    "                       desc='Peturbing Graph',\n",
    "                       disable=disable):\n",
    "\n",
    "            adj_grad, feat_grad = self._compute_gradients(modified_adj,\n",
    "                                                          modified_feat,\n",
    "                                                          target, target_label)\n",
    "\n",
    "            adj_grad_score = modified_adj.new_zeros(1)\n",
    "            print(adj_grad_score.shape)\n",
    "            exit()\n",
    "            feat_grad_score = modified_feat.new_zeros(1)\n",
    "\n",
    "            with torch.no_grad():\n",
    "                if structure_attack:\n",
    "                    adj_grad_score = self.structure_score(modified_adj,\n",
    "                                                          adj_grad,\n",
    "                                                          target)\n",
    "\n",
    "                if feature_attack:\n",
    "                    feat_grad_score = self.feature_score(modified_feat,\n",
    "                                                         feat_grad,\n",
    "                                                         target)\n",
    "\n",
    "                adj_max, adj_argmax = torch.max(adj_grad_score, dim=0)\n",
    "                feat_max, feat_argmax = torch.max(feat_grad_score, dim=0)\n",
    "                if adj_max >= feat_max:\n",
    "                    u, v = divmod(adj_argmax.item(), num_nodes)\n",
    "                    if direct_attack:\n",
    "                        u = target.item()\n",
    "                    edge_weight = modified_adj[u, v].data.item()\n",
    "                    modified_adj[u, v].data.fill_(1 - edge_weight)\n",
    "                    modified_adj[v, u].data.fill_(1 - edge_weight)\n",
    "\n",
    "                else:\n",
    "                    u, v = divmod(feat_argmax.item(), num_feats)\n",
    "                    feat_weight = modified_feat[u, v].data\n",
    "                    modified_feat[u, v].data.fill_(1 - feat_weight)\n",
    "\n",
    "        return modified_adj, modified_feat\n",
    "\n",
    "    def structure_score(self, modified_adj, adj_grad, target):\n",
    "        if self.direct_attack:\n",
    "            score = adj_grad[target] * (1 - 2 * modified_adj[target])\n",
    "            score -= score.min()\n",
    "            # make sure the targeted node would not be selected\n",
    "            score[target] = -1\n",
    "        else:\n",
    "            score = adj_grad * (1 - 2 * modified_adj)\n",
    "            score -= score.min()\n",
    "            score = torch.triu(score, diagonal=1)\n",
    "            # make sure the targeted node and its neighbors would not be selected\n",
    "            score[target] = -1\n",
    "            score[:, target] = -1\n",
    "        return score.view(-1)\n",
    "\n",
    "    def feature_score(self, modified_feat, feat_grad, target):\n",
    "        if self.direct_attack:\n",
    "            score = feat_grad[target] * (1 - 2 * modified_feat[target])\n",
    "        else:\n",
    "            score = feat_grad * (1 - 2 * modified_feat)\n",
    "\n",
    "        score -= score.min()\n",
    "        # make sure the targeted node would not be selected\n",
    "        score[target] = -1\n",
    "        return score.view(-1)\n",
    "\n",
    "    def _compute_gradients(self, modified_adj, modified_feat, target, target_label):\n",
    "\n",
    "        adj_norm = normalize(modified_adj)\n",
    "        logit = self.surrogate(adj_norm, modified_feat)[target].view(1, -1)\n",
    "        loss = self.loss_fn(logit, target_label)\n",
    "\n",
    "        if self.structure_attack and self.feature_attack:\n",
    "            return grad(loss, [modified_adj, modified_feat], create_graph=False)\n",
    "\n",
    "        if self.structure_attack:\n",
    "            return grad(loss, modified_adj, create_graph=False)[0], None\n",
    "\n",
    "        if self.feature_attack:\n",
    "            return None, grad(loss, modified_feat, create_graph=False)[0]\n"
   ]
  },
  {
   "cell_type": "code",
   "execution_count": 4,
   "id": "7c97075c",
   "metadata": {},
   "outputs": [
    {
     "name": "stdout",
     "output_type": "stream",
     "text": [
      "target label:  tensor(2)\n"
     ]
    },
    {
     "name": "stderr",
     "output_type": "stream",
     "text": [
      "Peturbing Graph:  50%|█████     | 2/4 [00:00<00:00, 14.81it/s]"
     ]
    },
    {
     "name": "stdout",
     "output_type": "stream",
     "text": [
      "torch.Size([1])\n",
      "torch.Size([1])\n"
     ]
    },
    {
     "name": "stderr",
     "output_type": "stream",
     "text": [
      "Peturbing Graph: 100%|██████████| 4/4 [00:00<00:00, 15.56it/s]"
     ]
    },
    {
     "name": "stdout",
     "output_type": "stream",
     "text": [
      "torch.Size([1])\n",
      "torch.Size([1])\n"
     ]
    },
    {
     "name": "stderr",
     "output_type": "stream",
     "text": [
      "Peturbing Graph: 100%|██████████| 4/4 [00:00<00:00, 15.44it/s]\n"
     ]
    }
   ],
   "source": [
    "target = 1\n",
    "target_label = label[target]\n",
    "print(\"target label: \", target_label)\n",
    "budget = g.in_degrees(target) # set attack budget as node degree\n",
    "\n",
    "attacker = FGAttack(g, feat, surrogate=model, device=device)\n",
    "attacker.reset()\n",
    "modified_adj, modified_feat = attacker.attack(target, target_label, budget)\n",
    "attack_g = dgl.graph(modified_adj.nonzero(as_tuple=True))\n",
    "attack_feat = modified_feat"
   ]
  },
  {
   "cell_type": "code",
   "execution_count": null,
   "id": "21a3f2e8",
   "metadata": {},
   "outputs": [],
   "source": []
  },
  {
   "cell_type": "markdown",
   "id": "4c104f94",
   "metadata": {},
   "source": [
    "# Evaluate "
   ]
  },
  {
   "cell_type": "code",
   "execution_count": null,
   "id": "3212a2b6",
   "metadata": {},
   "outputs": [
    {
     "ename": "",
     "evalue": "",
     "output_type": "error",
     "traceback": [
      "\u001b[1;31mCanceled future for execute_request message before replies were done"
     ]
    },
    {
     "ename": "",
     "evalue": "",
     "output_type": "error",
     "traceback": [
      "\u001b[1;31m在当前单元格或上一个单元格中执行代码时 Kernel 崩溃。请查看单元格中的代码，以确定故障的可能原因。有关详细信息，请单击 <a href='https://aka.ms/vscodeJupyterKernelCrash'>此处</a>。有关更多详细信息，请查看 Jupyter <a href='command:jupyter.viewOutput'>log</a>。"
     ]
    }
   ],
   "source": [
    "# predict with raw graph\n",
    "model(g, feat)[target].argmax()"
   ]
  },
  {
   "cell_type": "code",
   "execution_count": null,
   "id": "ea45a2de",
   "metadata": {},
   "outputs": [],
   "source": [
    "# predict with attacked graph: target gets misclassified\n",
    "model(attack_g, attack_feat)[target].argmax()"
   ]
  },
  {
   "cell_type": "markdown",
   "id": "b5268f60",
   "metadata": {},
   "source": [
    "# Save Attacked Graph for Defense"
   ]
  },
  {
   "cell_type": "code",
   "execution_count": null,
   "id": "dd2a8f2c",
   "metadata": {},
   "outputs": [],
   "source": [
    "torch.save(dict(attack_g=attack_g, attack_feat=attack_feat), 'attack_graph.pth')"
   ]
  },
  {
   "cell_type": "code",
   "execution_count": null,
   "id": "d3a8f5d6",
   "metadata": {},
   "outputs": [],
   "source": [
    "torch.save(model.state_dict(), 'model.pth')"
   ]
  },
  {
   "cell_type": "code",
   "execution_count": null,
   "id": "2c1da1ea",
   "metadata": {},
   "outputs": [],
   "source": []
  }
 ],
 "metadata": {
  "kernelspec": {
   "display_name": "Python 3",
   "language": "python",
   "name": "python3"
  },
  "language_info": {
   "codemirror_mode": {
    "name": "ipython",
    "version": 3
   },
   "file_extension": ".py",
   "mimetype": "text/x-python",
   "name": "python",
   "nbconvert_exporter": "python",
   "pygments_lexer": "ipython3",
   "version": "3.7.16"
  }
 },
 "nbformat": 4,
 "nbformat_minor": 5
}
